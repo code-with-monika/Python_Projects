{
 "cells": [
  {
   "cell_type": "code",
   "execution_count": 1,
   "id": "4d0ade8f-a567-4500-b81e-8009f8881810",
   "metadata": {},
   "outputs": [
    {
     "name": "stdout",
     "output_type": "stream",
     "text": [
      "Welcome to password generator!!!\n"
     ]
    },
    {
     "name": "stdin",
     "output_type": "stream",
     "text": [
      "How many letters do you want in your password? 3\n",
      "How many numbers do you want in your password? 2\n",
      "How many symbols do you want in your password? 4\n"
     ]
    },
    {
     "name": "stdout",
     "output_type": "stream",
     "text": [
      "u*7@$x)0y\n"
     ]
    }
   ],
   "source": [
    "#Password generator using Python\n",
    "\n",
    "import random\n",
    "\n",
    "letters=['a','b','c','d','e','f','g','h','i','j','k','l','m','n','o','p','q','r','s','t','u','v','w','x','y','z',\n",
    "        'A','B','C','D','E','F','G','H','I','J','K','L','M','N','O','P','Q','R','S','T','U','V','W','X','Y','Z']\n",
    "\n",
    "numbers=['0','1','2','3','4','5','6','7','8','9']\n",
    "\n",
    "symbols=['!','@','#','$','&','(',')','*','+']\n",
    "print(\"Welcome to password generator!!!\")\n",
    "no_letters=int(input(\"How many letters do you want in your password?\"))\n",
    "no_numbers=int(input(\"How many numbers do you want in your password?\"))\n",
    "no_symbols=int(input(\"How many symbols do you want in your password?\"))\n",
    "password=[]\n",
    "for i in range(1,no_letters+1):\n",
    "    password.append(random.choice(letters))\n",
    "for i in range(1,no_symbols+1):\n",
    "    password.append(random.choice(symbols))\n",
    "for i in range(1,no_numbers+1):\n",
    "    password.append(random.choice(numbers))  \n",
    "random.shuffle(password)\n",
    "password2=\"\".join(password)\n",
    "print(password2)"
   ]
  },
  {
   "cell_type": "code",
   "execution_count": null,
   "id": "ce11a146-c878-4bee-8564-a2f10c274da2",
   "metadata": {},
   "outputs": [],
   "source": []
  }
 ],
 "metadata": {
  "kernelspec": {
   "display_name": "Python 3 (ipykernel)",
   "language": "python",
   "name": "python3"
  },
  "language_info": {
   "codemirror_mode": {
    "name": "ipython",
    "version": 3
   },
   "file_extension": ".py",
   "mimetype": "text/x-python",
   "name": "python",
   "nbconvert_exporter": "python",
   "pygments_lexer": "ipython3",
   "version": "3.12.4"
  }
 },
 "nbformat": 4,
 "nbformat_minor": 5
}
