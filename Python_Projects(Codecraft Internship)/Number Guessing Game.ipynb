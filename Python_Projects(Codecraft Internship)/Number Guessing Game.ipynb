{
 "cells": [
  {
   "cell_type": "code",
   "execution_count": 1,
   "id": "b62634cb-1d9b-4d32-a413-1d93dc276d96",
   "metadata": {},
   "outputs": [
    {
     "name": "stdout",
     "output_type": "stream",
     "text": [
      "The number is between 1 to 100\n"
     ]
    },
    {
     "name": "stdin",
     "output_type": "stream",
     "text": [
      "Choose the difficulty level easy\n"
     ]
    },
    {
     "name": "stdout",
     "output_type": "stream",
     "text": [
      "You have 10 attempts remaining\n"
     ]
    },
    {
     "name": "stdin",
     "output_type": "stream",
     "text": [
      "Guess the number:  3\n"
     ]
    },
    {
     "name": "stdout",
     "output_type": "stream",
     "text": [
      "You are too low..\n",
      "Again guess\n",
      "You have 9 attempts remaining\n"
     ]
    },
    {
     "name": "stdin",
     "output_type": "stream",
     "text": [
      "Guess the number:  45\n"
     ]
    },
    {
     "name": "stdout",
     "output_type": "stream",
     "text": [
      "You are too high..\n",
      "Again guess\n",
      "You have 8 attempts remaining\n"
     ]
    },
    {
     "name": "stdin",
     "output_type": "stream",
     "text": [
      "Guess the number:  35\n"
     ]
    },
    {
     "name": "stdout",
     "output_type": "stream",
     "text": [
      "You are too high..\n",
      "Again guess\n",
      "You have 7 attempts remaining\n"
     ]
    },
    {
     "name": "stdin",
     "output_type": "stream",
     "text": [
      "Guess the number:  25\n"
     ]
    },
    {
     "name": "stdout",
     "output_type": "stream",
     "text": [
      "You are too low..\n",
      "Again guess\n",
      "You have 6 attempts remaining\n"
     ]
    },
    {
     "name": "stdin",
     "output_type": "stream",
     "text": [
      "Guess the number:  30\n"
     ]
    },
    {
     "name": "stdout",
     "output_type": "stream",
     "text": [
      "You are too high..\n",
      "Again guess\n",
      "You have 5 attempts remaining\n"
     ]
    },
    {
     "name": "stdin",
     "output_type": "stream",
     "text": [
      "Guess the number:  28\n"
     ]
    },
    {
     "name": "stdout",
     "output_type": "stream",
     "text": [
      "You are too high..\n",
      "Again guess\n",
      "You have 4 attempts remaining\n"
     ]
    },
    {
     "name": "stdin",
     "output_type": "stream",
     "text": [
      "Guess the number:  27\n"
     ]
    },
    {
     "name": "stdout",
     "output_type": "stream",
     "text": [
      "You are correct. The answer is  27\n"
     ]
    }
   ],
   "source": [
    "import random\n",
    "EASY_LEVEL=10\n",
    "HARD_LEVEL=5\n",
    "def difficulty(level_choosen):\n",
    "    if level_choosen=='easy':\n",
    "        return EASY_LEVEL\n",
    "    else:\n",
    "        return HARD_LEVEL\n",
    "\n",
    "def checkanswer(guessednumber,x,attempts):\n",
    "    if guessednumber<x:\n",
    "        print(\"You are too low..\")\n",
    "        return attempts-1\n",
    "    elif guessednumber>x:\n",
    "        print(\"You are too high..\")\n",
    "        return attempts-1\n",
    "    else:\n",
    "        print('You are correct. The answer is ',x)\n",
    "\n",
    "def game():\n",
    "    print(\"The number is between 1 to 100\")\n",
    "    x=random.randint(1,100)\n",
    "    level=input(\"Choose the difficulty level\")\n",
    "    attempts=difficulty(level)\n",
    "    guessednumber=0\n",
    "    while guessednumber!=x:\n",
    "        print(f\"You have {attempts} attempts remaining\")\n",
    "        guessednumber=int(input(\"Guess the number: \"))\n",
    "        attempts=checkanswer(guessednumber,x,attempts)\n",
    "        if attempts==0:\n",
    "            print(\"You lost..\")\n",
    "            return\n",
    "        elif guessednumber!=x:\n",
    "            print(\"Again guess\")\n",
    "game()"
   ]
  },
  {
   "cell_type": "code",
   "execution_count": null,
   "id": "dfd62fb0-9601-4c2c-8c0a-25dd81fd3d19",
   "metadata": {},
   "outputs": [],
   "source": []
  }
 ],
 "metadata": {
  "kernelspec": {
   "display_name": "Python 3 (ipykernel)",
   "language": "python",
   "name": "python3"
  },
  "language_info": {
   "codemirror_mode": {
    "name": "ipython",
    "version": 3
   },
   "file_extension": ".py",
   "mimetype": "text/x-python",
   "name": "python",
   "nbconvert_exporter": "python",
   "pygments_lexer": "ipython3",
   "version": "3.12.4"
  }
 },
 "nbformat": 4,
 "nbformat_minor": 5
}
